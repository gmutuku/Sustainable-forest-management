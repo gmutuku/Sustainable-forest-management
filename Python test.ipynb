{
 "cells": [
  {
   "cell_type": "code",
   "execution_count": 1,
   "id": "9f85dea0",
   "metadata": {},
   "outputs": [],
   "source": [
    "import pandas as pd\n"
   ]
  },
  {
   "cell_type": "code",
   "execution_count": 2,
   "id": "f4969c47",
   "metadata": {},
   "outputs": [],
   "source": [
    "df = pd.read_csv(\"C:\\\\Users\\\\user\\\\Downloads\\\\MD_agric_exam-4313.csv\")"
   ]
  },
  {
   "cell_type": "code",
   "execution_count": 3,
   "id": "600b1ace",
   "metadata": {},
   "outputs": [
    {
     "data": {
      "text/html": [
       "<div>\n",
       "<style scoped>\n",
       "    .dataframe tbody tr th:only-of-type {\n",
       "        vertical-align: middle;\n",
       "    }\n",
       "\n",
       "    .dataframe tbody tr th {\n",
       "        vertical-align: top;\n",
       "    }\n",
       "\n",
       "    .dataframe thead th {\n",
       "        text-align: right;\n",
       "    }\n",
       "</style>\n",
       "<table border=\"1\" class=\"dataframe\">\n",
       "  <thead>\n",
       "    <tr style=\"text-align: right;\">\n",
       "      <th></th>\n",
       "      <th>Field_ID</th>\n",
       "      <th>Elevation</th>\n",
       "      <th>Rainfall</th>\n",
       "      <th>Min_temperature_C</th>\n",
       "      <th>Max_temperature_C</th>\n",
       "      <th>pH</th>\n",
       "      <th>Pollution_level</th>\n",
       "      <th>Plot_size</th>\n",
       "      <th>Annual_yield</th>\n",
       "      <th>Crop_type</th>\n",
       "    </tr>\n",
       "  </thead>\n",
       "  <tbody>\n",
       "    <tr>\n",
       "      <th>0</th>\n",
       "      <td>1162</td>\n",
       "      <td>494.95615</td>\n",
       "      <td>1507.6</td>\n",
       "      <td>-5.4</td>\n",
       "      <td>31.0</td>\n",
       "      <td>6.859436</td>\n",
       "      <td>0.007034</td>\n",
       "      <td>3.6</td>\n",
       "      <td>1.617421</td>\n",
       "      <td>coffee</td>\n",
       "    </tr>\n",
       "    <tr>\n",
       "      <th>1</th>\n",
       "      <td>5108</td>\n",
       "      <td>663.73390</td>\n",
       "      <td>581.0</td>\n",
       "      <td>-4.7</td>\n",
       "      <td>30.9</td>\n",
       "      <td>5.603219</td>\n",
       "      <td>0.289643</td>\n",
       "      <td>4.2</td>\n",
       "      <td>2.532497</td>\n",
       "      <td>potato</td>\n",
       "    </tr>\n",
       "    <tr>\n",
       "      <th>2</th>\n",
       "      <td>3504</td>\n",
       "      <td>396.87990</td>\n",
       "      <td>1715.1</td>\n",
       "      <td>-6.1</td>\n",
       "      <td>31.7</td>\n",
       "      <td>5.774116</td>\n",
       "      <td>0.000409</td>\n",
       "      <td>2.6</td>\n",
       "      <td>1.262207</td>\n",
       "      <td>banana</td>\n",
       "    </tr>\n",
       "    <tr>\n",
       "      <th>3</th>\n",
       "      <td>5351</td>\n",
       "      <td>594.80370</td>\n",
       "      <td>1748.0</td>\n",
       "      <td>-4.3</td>\n",
       "      <td>33.6</td>\n",
       "      <td>6.477415</td>\n",
       "      <td>0.088777</td>\n",
       "      <td>7.9</td>\n",
       "      <td>4.351564</td>\n",
       "      <td>wheat</td>\n",
       "    </tr>\n",
       "    <tr>\n",
       "      <th>4</th>\n",
       "      <td>905</td>\n",
       "      <td>609.49800</td>\n",
       "      <td>1395.8</td>\n",
       "      <td>-4.5</td>\n",
       "      <td>31.3</td>\n",
       "      <td>5.419586</td>\n",
       "      <td>0.050023</td>\n",
       "      <td>10.8</td>\n",
       "      <td>5.034791</td>\n",
       "      <td>cassava</td>\n",
       "    </tr>\n",
       "  </tbody>\n",
       "</table>\n",
       "</div>"
      ],
      "text/plain": [
       "   Field_ID  Elevation  Rainfall  Min_temperature_C  Max_temperature_C  \\\n",
       "0      1162  494.95615    1507.6               -5.4               31.0   \n",
       "1      5108  663.73390     581.0               -4.7               30.9   \n",
       "2      3504  396.87990    1715.1               -6.1               31.7   \n",
       "3      5351  594.80370    1748.0               -4.3               33.6   \n",
       "4       905  609.49800    1395.8               -4.5               31.3   \n",
       "\n",
       "         pH  Pollution_level  Plot_size  Annual_yield Crop_type  \n",
       "0  6.859436         0.007034        3.6      1.617421    coffee  \n",
       "1  5.603219         0.289643        4.2      2.532497    potato  \n",
       "2  5.774116         0.000409        2.6      1.262207    banana  \n",
       "3  6.477415         0.088777        7.9      4.351564     wheat  \n",
       "4  5.419586         0.050023       10.8      5.034791   cassava  "
      ]
     },
     "execution_count": 3,
     "metadata": {},
     "output_type": "execute_result"
    }
   ],
   "source": [
    "df.head(5)"
   ]
  },
  {
   "cell_type": "code",
   "execution_count": 4,
   "id": "c4355319",
   "metadata": {},
   "outputs": [
    {
     "data": {
      "text/html": [
       "<div>\n",
       "<style scoped>\n",
       "    .dataframe tbody tr th:only-of-type {\n",
       "        vertical-align: middle;\n",
       "    }\n",
       "\n",
       "    .dataframe tbody tr th {\n",
       "        vertical-align: top;\n",
       "    }\n",
       "\n",
       "    .dataframe thead th {\n",
       "        text-align: right;\n",
       "    }\n",
       "</style>\n",
       "<table border=\"1\" class=\"dataframe\">\n",
       "  <thead>\n",
       "    <tr style=\"text-align: right;\">\n",
       "      <th></th>\n",
       "      <th>Field_ID</th>\n",
       "      <th>Elevation</th>\n",
       "      <th>Rainfall</th>\n",
       "      <th>Min_temperature_C</th>\n",
       "      <th>Max_temperature_C</th>\n",
       "      <th>pH</th>\n",
       "      <th>Pollution_level</th>\n",
       "      <th>Plot_size</th>\n",
       "      <th>Annual_yield</th>\n",
       "    </tr>\n",
       "  </thead>\n",
       "  <tbody>\n",
       "    <tr>\n",
       "      <th>count</th>\n",
       "      <td>1000.000000</td>\n",
       "      <td>1000.000000</td>\n",
       "      <td>1000.000000</td>\n",
       "      <td>1000.000000</td>\n",
       "      <td>1000.00000</td>\n",
       "      <td>1000.000000</td>\n",
       "      <td>1.000000e+03</td>\n",
       "      <td>1000.000000</td>\n",
       "      <td>1000.000000</td>\n",
       "    </tr>\n",
       "    <tr>\n",
       "      <th>mean</th>\n",
       "      <td>2779.486000</td>\n",
       "      <td>628.136035</td>\n",
       "      <td>1197.734700</td>\n",
       "      <td>-4.504100</td>\n",
       "      <td>30.89460</td>\n",
       "      <td>5.603899</td>\n",
       "      <td>2.233740e-01</td>\n",
       "      <td>3.962400</td>\n",
       "      <td>2.101536</td>\n",
       "    </tr>\n",
       "    <tr>\n",
       "      <th>std</th>\n",
       "      <td>1595.068372</td>\n",
       "      <td>179.098546</td>\n",
       "      <td>497.794699</td>\n",
       "      <td>1.568117</td>\n",
       "      <td>1.92225</td>\n",
       "      <td>0.802154</td>\n",
       "      <td>2.288665e-01</td>\n",
       "      <td>3.459036</td>\n",
       "      <td>1.926694</td>\n",
       "    </tr>\n",
       "    <tr>\n",
       "      <th>min</th>\n",
       "      <td>1.000000</td>\n",
       "      <td>35.910797</td>\n",
       "      <td>110.100000</td>\n",
       "      <td>-9.700000</td>\n",
       "      <td>25.10000</td>\n",
       "      <td>3.701838</td>\n",
       "      <td>5.397448e-10</td>\n",
       "      <td>0.500000</td>\n",
       "      <td>0.174857</td>\n",
       "    </tr>\n",
       "    <tr>\n",
       "      <th>25%</th>\n",
       "      <td>1442.250000</td>\n",
       "      <td>504.392825</td>\n",
       "      <td>771.575000</td>\n",
       "      <td>-5.600000</td>\n",
       "      <td>29.57500</td>\n",
       "      <td>5.018775</td>\n",
       "      <td>4.449419e-02</td>\n",
       "      <td>1.500000</td>\n",
       "      <td>0.786612</td>\n",
       "    </tr>\n",
       "    <tr>\n",
       "      <th>50%</th>\n",
       "      <td>2728.500000</td>\n",
       "      <td>657.468975</td>\n",
       "      <td>1194.900000</td>\n",
       "      <td>-4.400000</td>\n",
       "      <td>30.90000</td>\n",
       "      <td>5.562078</td>\n",
       "      <td>1.661962e-01</td>\n",
       "      <td>2.900000</td>\n",
       "      <td>1.478622</td>\n",
       "    </tr>\n",
       "    <tr>\n",
       "      <th>75%</th>\n",
       "      <td>4133.000000</td>\n",
       "      <td>761.075752</td>\n",
       "      <td>1616.900000</td>\n",
       "      <td>-3.300000</td>\n",
       "      <td>32.20000</td>\n",
       "      <td>6.201437</td>\n",
       "      <td>3.077840e-01</td>\n",
       "      <td>4.700000</td>\n",
       "      <td>2.519811</td>\n",
       "    </tr>\n",
       "    <tr>\n",
       "      <th>max</th>\n",
       "      <td>5632.000000</td>\n",
       "      <td>1003.943700</td>\n",
       "      <td>2408.500000</td>\n",
       "      <td>-1.200000</td>\n",
       "      <td>37.30000</td>\n",
       "      <td>7.484683</td>\n",
       "      <td>9.954134e-01</td>\n",
       "      <td>15.000000</td>\n",
       "      <td>12.695224</td>\n",
       "    </tr>\n",
       "  </tbody>\n",
       "</table>\n",
       "</div>"
      ],
      "text/plain": [
       "          Field_ID    Elevation     Rainfall  Min_temperature_C  \\\n",
       "count  1000.000000  1000.000000  1000.000000        1000.000000   \n",
       "mean   2779.486000   628.136035  1197.734700          -4.504100   \n",
       "std    1595.068372   179.098546   497.794699           1.568117   \n",
       "min       1.000000    35.910797   110.100000          -9.700000   \n",
       "25%    1442.250000   504.392825   771.575000          -5.600000   \n",
       "50%    2728.500000   657.468975  1194.900000          -4.400000   \n",
       "75%    4133.000000   761.075752  1616.900000          -3.300000   \n",
       "max    5632.000000  1003.943700  2408.500000          -1.200000   \n",
       "\n",
       "       Max_temperature_C           pH  Pollution_level    Plot_size  \\\n",
       "count         1000.00000  1000.000000     1.000000e+03  1000.000000   \n",
       "mean            30.89460     5.603899     2.233740e-01     3.962400   \n",
       "std              1.92225     0.802154     2.288665e-01     3.459036   \n",
       "min             25.10000     3.701838     5.397448e-10     0.500000   \n",
       "25%             29.57500     5.018775     4.449419e-02     1.500000   \n",
       "50%             30.90000     5.562078     1.661962e-01     2.900000   \n",
       "75%             32.20000     6.201437     3.077840e-01     4.700000   \n",
       "max             37.30000     7.484683     9.954134e-01    15.000000   \n",
       "\n",
       "       Annual_yield  \n",
       "count   1000.000000  \n",
       "mean       2.101536  \n",
       "std        1.926694  \n",
       "min        0.174857  \n",
       "25%        0.786612  \n",
       "50%        1.478622  \n",
       "75%        2.519811  \n",
       "max       12.695224  "
      ]
     },
     "execution_count": 4,
     "metadata": {},
     "output_type": "execute_result"
    }
   ],
   "source": [
    "df.describe()"
   ]
  },
  {
   "cell_type": "code",
   "execution_count": 5,
   "id": "4a2450f5",
   "metadata": {},
   "outputs": [
    {
     "name": "stdout",
     "output_type": "stream",
     "text": [
      "<class 'pandas.core.frame.DataFrame'>\n",
      "RangeIndex: 1000 entries, 0 to 999\n",
      "Data columns (total 10 columns):\n",
      " #   Column             Non-Null Count  Dtype  \n",
      "---  ------             --------------  -----  \n",
      " 0   Field_ID           1000 non-null   int64  \n",
      " 1   Elevation          1000 non-null   float64\n",
      " 2   Rainfall           1000 non-null   float64\n",
      " 3   Min_temperature_C  1000 non-null   float64\n",
      " 4   Max_temperature_C  1000 non-null   float64\n",
      " 5   pH                 1000 non-null   float64\n",
      " 6   Pollution_level    1000 non-null   float64\n",
      " 7   Plot_size          1000 non-null   float64\n",
      " 8   Annual_yield       1000 non-null   float64\n",
      " 9   Crop_type          1000 non-null   object \n",
      "dtypes: float64(8), int64(1), object(1)\n",
      "memory usage: 78.3+ KB\n"
     ]
    }
   ],
   "source": [
    "df.info()"
   ]
  },
  {
   "cell_type": "code",
   "execution_count": 6,
   "id": "074ff5f7",
   "metadata": {},
   "outputs": [
    {
     "data": {
      "text/plain": [
       "array(['coffee', 'potato', 'banana', 'wheat', 'cassava', 'maize', 'tea',\n",
       "       'rice'], dtype=object)"
      ]
     },
     "execution_count": 6,
     "metadata": {},
     "output_type": "execute_result"
    }
   ],
   "source": [
    "crop = df[\"Crop_type\"].unique()\n",
    "crop"
   ]
  },
  {
   "cell_type": "code",
   "execution_count": 7,
   "id": "426eb302",
   "metadata": {},
   "outputs": [
    {
     "data": {
      "text/plain": [
       "8"
      ]
     },
     "execution_count": 7,
     "metadata": {},
     "output_type": "execute_result"
    }
   ],
   "source": [
    "len(crop)"
   ]
  },
  {
   "cell_type": "code",
   "execution_count": 8,
   "id": "61d652fe",
   "metadata": {},
   "outputs": [
    {
     "data": {
      "text/plain": [
       "8.99"
      ]
     },
     "execution_count": 8,
     "metadata": {},
     "output_type": "execute_result"
    }
   ],
   "source": [
    "wheat_df =round( df[df['Crop_type'] == 'wheat'][\"Annual_yield\"].max(),2)\n",
    "wheat_df"
   ]
  },
  {
   "cell_type": "code",
   "execution_count": 9,
   "id": "b8bea706",
   "metadata": {},
   "outputs": [
    {
     "data": {
      "text/plain": [
       "Crop_type\n",
       "banana     32765.4\n",
       "cassava    90085.7\n",
       "coffee     51655.2\n",
       "maize      38110.5\n",
       "potato     66653.0\n",
       "rice        6362.4\n",
       "tea        93523.5\n",
       "wheat      99746.9\n",
       "Name: Rainfall, dtype: float64"
      ]
     },
     "execution_count": 9,
     "metadata": {},
     "output_type": "execute_result"
    }
   ],
   "source": [
    "filtered_df = df[df[\"Pollution_level\"] > 0.2]\n",
    "\n",
    "total_rainfall_by_crop = filtered_df.groupby(\"Crop_type\") [\"Rainfall\"].sum()\n",
    "\n",
    "total_rainfall_by_crop"
   ]
  },
  {
   "cell_type": "code",
   "execution_count": 10,
   "id": "c3c8304f",
   "metadata": {},
   "outputs": [
    {
     "data": {
      "text/plain": [
       "941959.7"
      ]
     },
     "execution_count": 10,
     "metadata": {},
     "output_type": "execute_result"
    }
   ],
   "source": [
    "avg_pollution = df.groupby('Crop_type')['Pollution_level'].mean()\n",
    "filtered_crop_types = avg_pollution[avg_pollution > 0.2].index.tolist()\n",
    "filtered_df = df[df['Crop_type'].isin(filtered_crop_types)]\n",
    "total_rainfall = filtered_df['Rainfall'].sum()\n",
    "total_rainfall"
   ]
  },
  {
   "cell_type": "markdown",
   "id": "48ffee46",
   "metadata": {},
   "source": [
    "Write a function to calculate the temperature range (Max_temperature_C - Min_temperature_C) for each farmer's field. Then, call the function with the following `Field_ID`: `1458`, `1895`, and `5443`. What are the results of these 3 calls?"
   ]
  },
  {
   "cell_type": "code",
   "execution_count": 11,
   "id": "bfb17d8e",
   "metadata": {},
   "outputs": [
    {
     "name": "stdout",
     "output_type": "stream",
     "text": [
      "Temperature range for Field_ID 1458: 40.7 C\n",
      "Temperature range for Field_ID 1895: 35.7 C\n",
      "Temperature range for Field_ID 5443: 33.4 C\n"
     ]
    }
   ],
   "source": [
    "def calculate_temperature_range(field_id):\n",
    "    # Filter data for the given field ID\n",
    "    field_data = df[df['Field_ID'] == field_id]\n",
    "    \n",
    "    # Calculate temperature range for the field\n",
    "    temperature_range = field_data['Max_temperature_C'].max() - field_data['Min_temperature_C'].min()\n",
    "    \n",
    "    return temperature_range\n",
    "\n",
    "#Call the function for Field_ID: 1458, 1895, and 5443\n",
    "field_1458_range = calculate_temperature_range(1458)\n",
    "field_1895_range = calculate_temperature_range(1895)\n",
    "field_5443_range = calculate_temperature_range(5443)\n",
    "\n",
    "print(\"Temperature range for Field_ID 1458:\", field_1458_range, \"C\")\n",
    "print(\"Temperature range for Field_ID 1895:\", field_1895_range, \"C\")\n",
    "print(\"Temperature range for Field_ID 5443:\", field_5443_range, \"C\")"
   ]
  },
  {
   "cell_type": "markdown",
   "id": "8cca5832",
   "metadata": {},
   "source": [
    "What does the following code achieve?\n",
    "\n",
    "a = data['Crop_type'].unique()\n",
    "\n",
    "b = float('inf')\n",
    "\n",
    "c = ''\n",
    "\n",
    "for crop in a:\n",
    "\n",
    "    d = data[data['Crop_type'] == crop]['Min_temperature_C'].mean()\n",
    "\n",
    "    if d < b:\n",
    "\n",
    "        b = d\n",
    "\n",
    "        c = crop\n",
    "\n",
    "print(c)\n",
    "\n",
    "Identifies the minimum temperature for each crop type.\n",
    "Identifies the crop type with the highest average minimum temperature\n",
    "Sorts crops_types from the average lowest to highest minimum temperatures.\n",
    "Identifies the crop type with the lowest average minimum temperature. "
   ]
  },
  {
   "cell_type": "code",
   "execution_count": 12,
   "id": "f79a4f4b",
   "metadata": {},
   "outputs": [
    {
     "data": {
      "text/plain": [
       "1731.8999999999999"
      ]
     },
     "execution_count": 12,
     "metadata": {},
     "output_type": "execute_result"
    }
   ],
   "source": [
    "# Filter the dataset for plots where pH is less than 5.5\n",
    "filtered_df = df[df['pH'] < 5.5]\n",
    "\n",
    "# Calculate the total plot size for filtered plots\n",
    "total_plot_size = filtered_df['Plot_size'].sum()\n",
    "\n",
    "total_plot_size"
   ]
  },
  {
   "cell_type": "code",
   "execution_count": 15,
   "id": "8a1268c9",
   "metadata": {},
   "outputs": [
    {
     "data": {
      "text/plain": [
       "319"
      ]
     },
     "execution_count": 15,
     "metadata": {},
     "output_type": "execute_result"
    }
   ],
   "source": [
    "# Filter the DataFrame based on the conditions\n",
    "filtered_df = df[(df['Min_temperature_C'] < -5) & (df['Max_temperature_C'] > 30)]\n",
    "\n",
    "# Get the number of rows in the filtered DataFrame\n",
    "num_rows_filtered = filtered_df.shape[0]\n",
    "\n",
    "num_rows_filtered"
   ]
  },
  {
   "cell_type": "code",
   "execution_count": 18,
   "id": "a3c21a50",
   "metadata": {},
   "outputs": [],
   "source": [
    "import numpy as np"
   ]
  },
  {
   "cell_type": "code",
   "execution_count": 19,
   "id": "a704a54d",
   "metadata": {},
   "outputs": [],
   "source": [
    "# Convert data to numpy array\n",
    "plot_sizes = np.array(df['Plot_size'])\n",
    "\n",
    "# Calculate the median plot size\n",
    "median_plot_size = np.median(plot_sizes)\n",
    "\n",
    "# Filter the dataset for plots where the 'Plot_size' is larger than the median plot size\n",
    "filtered_data = np.array([df['Rainfall'][i] for i in range(len(df['Plot_size'])) if df['Plot_size'][i] > median_plot_size])\n",
    "\n",
    "# Calculate the standard deviation of 'Rainfall' for the filtered plots\n",
    "std_dev_rainfall = np.std(filtered_data)\n",
    "\n",
    "# Round the result to 2 decimal places\n",
    "std_dev_rainfall_rounded = round(std_dev_rainfall, 2)\n"
   ]
  },
  {
   "cell_type": "code",
   "execution_count": 20,
   "id": "07f068e5",
   "metadata": {},
   "outputs": [
    {
     "data": {
      "text/plain": [
       "469.62"
      ]
     },
     "execution_count": 20,
     "metadata": {},
     "output_type": "execute_result"
    }
   ],
   "source": [
    "std_dev_rainfall_rounded"
   ]
  },
  {
   "cell_type": "code",
   "execution_count": 21,
   "id": "741b630c",
   "metadata": {},
   "outputs": [
    {
     "data": {
      "text/plain": [
       "469.6199685856172"
      ]
     },
     "execution_count": 21,
     "metadata": {},
     "output_type": "execute_result"
    }
   ],
   "source": [
    "# Calculate median plot size\n",
    "median_plot_size = np.median(df['Plot_size'])\n",
    "\n",
    "# Filter data for plots with size above median\n",
    "large_plots = df[df['Plot_size'] > median_plot_size]\n",
    "\n",
    "# Calculate standard deviation of rainfall for large plots (rounded to 2 decimals)\n",
    "rainfall_std = np.std(large_plots['Rainfall'])\n",
    "\n",
    "rainfall_std"
   ]
  },
  {
   "cell_type": "code",
   "execution_count": 24,
   "id": "3ea8c17d",
   "metadata": {},
   "outputs": [
    {
     "data": {
      "text/html": [
       "<div>\n",
       "<style scoped>\n",
       "    .dataframe tbody tr th:only-of-type {\n",
       "        vertical-align: middle;\n",
       "    }\n",
       "\n",
       "    .dataframe tbody tr th {\n",
       "        vertical-align: top;\n",
       "    }\n",
       "\n",
       "    .dataframe thead th {\n",
       "        text-align: right;\n",
       "    }\n",
       "</style>\n",
       "<table border=\"1\" class=\"dataframe\">\n",
       "  <thead>\n",
       "    <tr style=\"text-align: right;\">\n",
       "      <th></th>\n",
       "      <th>Field_ID</th>\n",
       "      <th>Elevation</th>\n",
       "      <th>Rainfall</th>\n",
       "      <th>Min_temperature_C</th>\n",
       "      <th>Max_temperature_C</th>\n",
       "      <th>pH</th>\n",
       "      <th>Pollution_level</th>\n",
       "      <th>Plot_size</th>\n",
       "      <th>Annual_yield</th>\n",
       "    </tr>\n",
       "  </thead>\n",
       "  <tbody>\n",
       "    <tr>\n",
       "      <th>count</th>\n",
       "      <td>497.000000</td>\n",
       "      <td>497.000000</td>\n",
       "      <td>497.000000</td>\n",
       "      <td>497.000000</td>\n",
       "      <td>497.000000</td>\n",
       "      <td>497.000000</td>\n",
       "      <td>4.970000e+02</td>\n",
       "      <td>497.000000</td>\n",
       "      <td>497.000000</td>\n",
       "    </tr>\n",
       "    <tr>\n",
       "      <th>mean</th>\n",
       "      <td>2791.404427</td>\n",
       "      <td>628.605822</td>\n",
       "      <td>1249.135815</td>\n",
       "      <td>-4.454125</td>\n",
       "      <td>30.924748</td>\n",
       "      <td>5.653831</td>\n",
       "      <td>2.234391e-01</td>\n",
       "      <td>6.383099</td>\n",
       "      <td>3.372492</td>\n",
       "    </tr>\n",
       "    <tr>\n",
       "      <th>std</th>\n",
       "      <td>1556.225370</td>\n",
       "      <td>178.269553</td>\n",
       "      <td>470.093137</td>\n",
       "      <td>1.540563</td>\n",
       "      <td>1.971115</td>\n",
       "      <td>0.811947</td>\n",
       "      <td>2.311360e-01</td>\n",
       "      <td>3.458818</td>\n",
       "      <td>2.025365</td>\n",
       "    </tr>\n",
       "    <tr>\n",
       "      <th>min</th>\n",
       "      <td>29.000000</td>\n",
       "      <td>111.650955</td>\n",
       "      <td>263.000000</td>\n",
       "      <td>-8.900000</td>\n",
       "      <td>25.900000</td>\n",
       "      <td>4.002131</td>\n",
       "      <td>5.397448e-10</td>\n",
       "      <td>3.000000</td>\n",
       "      <td>0.742307</td>\n",
       "    </tr>\n",
       "    <tr>\n",
       "      <th>25%</th>\n",
       "      <td>1565.000000</td>\n",
       "      <td>497.494930</td>\n",
       "      <td>878.300000</td>\n",
       "      <td>-5.600000</td>\n",
       "      <td>29.500000</td>\n",
       "      <td>5.028574</td>\n",
       "      <td>4.216288e-02</td>\n",
       "      <td>3.800000</td>\n",
       "      <td>1.926233</td>\n",
       "    </tr>\n",
       "    <tr>\n",
       "      <th>50%</th>\n",
       "      <td>2714.000000</td>\n",
       "      <td>663.056500</td>\n",
       "      <td>1258.500000</td>\n",
       "      <td>-4.200000</td>\n",
       "      <td>30.900000</td>\n",
       "      <td>5.626855</td>\n",
       "      <td>1.553352e-01</td>\n",
       "      <td>4.700000</td>\n",
       "      <td>2.525218</td>\n",
       "    </tr>\n",
       "    <tr>\n",
       "      <th>75%</th>\n",
       "      <td>4149.000000</td>\n",
       "      <td>757.077300</td>\n",
       "      <td>1637.500000</td>\n",
       "      <td>-3.300000</td>\n",
       "      <td>32.300000</td>\n",
       "      <td>6.247014</td>\n",
       "      <td>3.202676e-01</td>\n",
       "      <td>8.900000</td>\n",
       "      <td>4.427100</td>\n",
       "    </tr>\n",
       "    <tr>\n",
       "      <th>max</th>\n",
       "      <td>5628.000000</td>\n",
       "      <td>981.687400</td>\n",
       "      <td>2408.500000</td>\n",
       "      <td>-1.200000</td>\n",
       "      <td>37.300000</td>\n",
       "      <td>7.484683</td>\n",
       "      <td>9.829733e-01</td>\n",
       "      <td>15.000000</td>\n",
       "      <td>12.695224</td>\n",
       "    </tr>\n",
       "  </tbody>\n",
       "</table>\n",
       "</div>"
      ],
      "text/plain": [
       "          Field_ID   Elevation     Rainfall  Min_temperature_C  \\\n",
       "count   497.000000  497.000000   497.000000         497.000000   \n",
       "mean   2791.404427  628.605822  1249.135815          -4.454125   \n",
       "std    1556.225370  178.269553   470.093137           1.540563   \n",
       "min      29.000000  111.650955   263.000000          -8.900000   \n",
       "25%    1565.000000  497.494930   878.300000          -5.600000   \n",
       "50%    2714.000000  663.056500  1258.500000          -4.200000   \n",
       "75%    4149.000000  757.077300  1637.500000          -3.300000   \n",
       "max    5628.000000  981.687400  2408.500000          -1.200000   \n",
       "\n",
       "       Max_temperature_C          pH  Pollution_level   Plot_size  \\\n",
       "count         497.000000  497.000000     4.970000e+02  497.000000   \n",
       "mean           30.924748    5.653831     2.234391e-01    6.383099   \n",
       "std             1.971115    0.811947     2.311360e-01    3.458818   \n",
       "min            25.900000    4.002131     5.397448e-10    3.000000   \n",
       "25%            29.500000    5.028574     4.216288e-02    3.800000   \n",
       "50%            30.900000    5.626855     1.553352e-01    4.700000   \n",
       "75%            32.300000    6.247014     3.202676e-01    8.900000   \n",
       "max            37.300000    7.484683     9.829733e-01   15.000000   \n",
       "\n",
       "       Annual_yield  \n",
       "count    497.000000  \n",
       "mean       3.372492  \n",
       "std        2.025365  \n",
       "min        0.742307  \n",
       "25%        1.926233  \n",
       "50%        2.525218  \n",
       "75%        4.427100  \n",
       "max       12.695224  "
      ]
     },
     "execution_count": 24,
     "metadata": {},
     "output_type": "execute_result"
    }
   ],
   "source": [
    "median_plot = df['Plot_size'].median()\n",
    "larger_plots = df[df['Plot_size'] > median_plot]\n",
    "larger_plots.describe()"
   ]
  },
  {
   "cell_type": "markdown",
   "id": "087a16fc",
   "metadata": {},
   "source": [
    "If you concatenate the first three digits of the most common ‘Max_temperature_C’ with the last three letters of the least common 'Crop_type', what string do you get?\n",
    "Note: Use the first mode if there are multiple modes"
   ]
  },
  {
   "cell_type": "code",
   "execution_count": 25,
   "id": "92112485",
   "metadata": {},
   "outputs": [
    {
     "data": {
      "text/plain": [
       "'30.ice'"
      ]
     },
     "execution_count": 25,
     "metadata": {},
     "output_type": "execute_result"
    }
   ],
   "source": [
    "# Find the most common 'Max_temperature_C' value\n",
    "most_common_temp = df['Max_temperature_C'].mode()[0]\n",
    "\n",
    "# Find the least common 'Crop_type' value\n",
    "least_common_crop = df['Crop_type'].value_counts().idxmin()\n",
    "\n",
    "# Concatenate the first three digits of the most common temperature with the last three letters of the least common crop type\n",
    "result_string = str(most_common_temp)[:3] + least_common_crop[-3:]\n",
    "\n",
    "result_string"
   ]
  },
  {
   "cell_type": "code",
   "execution_count": 26,
   "id": "81c18173",
   "metadata": {},
   "outputs": [
    {
     "data": {
      "text/plain": [
       "'30.ice'"
      ]
     },
     "execution_count": 26,
     "metadata": {},
     "output_type": "execute_result"
    }
   ],
   "source": [
    "# Most common Max_temperature_C (first mode)\n",
    "most_common_temp = df['Max_temperature_C'].mode()[0]\n",
    "\n",
    "# Least common Crop_type\n",
    "least_common_crop = df['Crop_type'].value_counts().idxmin()\n",
    "\n",
    "# Extract first three digits of most common temperature\n",
    "temp_str = str(most_common_temp)[:3]\n",
    "\n",
    "# Extract last three letters of least common crop type\n",
    "crop_str = least_common_crop[-3:]\n",
    "\n",
    "# Concatenate strings\n",
    "result_string = temp_str + crop_str\n",
    "\n",
    "result_string"
   ]
  },
  {
   "cell_type": "markdown",
   "id": "97988088",
   "metadata": {},
   "source": [
    "Write Python code to create a violin plot visualising the distribution of 'Annual_yield' across different 'Elevation' ranges. Use the provided elevation range categories (Low: < 300m, Medium: 300m - 600m, High: > 600m) to categorise the data before plotting.  Examine the violin plot displaying the distribution of 'Annual Yield' across three elevation categories (Low, Medium, High). What insight does the violin plot provide regarding the relationship between elevation ranges and annual yield distribution?"
   ]
  },
  {
   "cell_type": "code",
   "execution_count": 27,
   "id": "97429b26",
   "metadata": {},
   "outputs": [],
   "source": [
    "import seaborn as sns\n",
    "import matplotlib.pyplot as plt"
   ]
  },
  {
   "cell_type": "code",
   "execution_count": 28,
   "id": "1a7ef945",
   "metadata": {},
   "outputs": [
    {
     "data": {
      "image/png": "[encoded data removed]",
      "text/plain": [
       "<Figure size 1000x600 with 1 Axes>"
      ]
     },
     "metadata": {},
     "output_type": "display_data"
    }
   ],
   "source": [
    "# Categorize 'Elevation' into ranges\n",
    "df['Elevation_range'] = pd.cut(df['Elevation'], bins=[0, 300, 600, float('inf')], labels=['Low', 'Medium', 'High'])\n",
    "\n",
    "# Create violin plot\n",
    "plt.figure(figsize=(10, 6))\n",
    "sns.violinplot(x='Elevation_range', y='Annual_yield', data=df)\n",
    "plt.title('Distribution of Annual Yield Across Elevation Ranges')\n",
    "plt.xlabel('Elevation Range')\n",
    "plt.ylabel('Annual Yield')\n",
    "plt.show()"
   ]
  },
  {
   "cell_type": "code",
   "execution_count": 31,
   "id": "3631e00e",
   "metadata": {},
   "outputs": [
    {
     "name": "stderr",
     "output_type": "stream",
     "text": [
      "C:\\Users\\user\\AppData\\Local\\Temp\\ipykernel_8744\\3947279131.py:10: FutureWarning: \n",
      "\n",
      "Passing `palette` without assigning `hue` is deprecated and will be removed in v0.14.0. Assign the `x` variable to `hue` and set `legend=False` for the same effect.\n",
      "\n",
      "  sns.violinplot(x=\"Elevation_category\", y=\"Annual_yield\", data=df, palette=\"muted\", inner=\"quartile\")\n"
     ]
    },
    {
     "data": {
      "image/png": "[encoded data removed]",
      "text/plain": [
       "<Figure size 1000x600 with 1 Axes>"
      ]
     },
     "metadata": {},
     "output_type": "display_data"
    }
   ],
   "source": [
    "# Load your dataset (replace 'your_dataset.csv' with your actual file)\n",
    "df = pd.read_csv(\"C:\\\\Users\\\\user\\\\Downloads\\\\MD_agric_exam-4313.csv\")\n",
    "\n",
    "# Categorize elevation based on provided ranges\n",
    "df[\"Elevation_category\"] = pd.cut(df[\"Elevation\"], bins=[-float(\"inf\"), 300, 600, float(\"inf\")],\n",
    "                                  labels=[\"Low\", \"Medium\", \"High\"])\n",
    "\n",
    "# Create a violin plot\n",
    "plt.figure(figsize=(10, 6))\n",
    "sns.violinplot(x=\"Elevation_category\", y=\"Annual_yield\", data=df, palette=\"muted\", inner=\"quartile\")\n",
    "plt.xlabel(\"Elevation Range\")\n",
    "plt.ylabel(\"Annual Yield\")\n",
    "plt.title(\"Distribution of Annual Yield across Elevation Ranges\")\n",
    "plt.show()"
   ]
  },
  {
   "cell_type": "markdown",
   "id": "35f9a300",
   "metadata": {},
   "source": [
    "1.The 'Low' elevation category shows a more consistent yield distribution with less variability compared to the 'Medium' and 'High' categories. This could indicate that lower elevations provide stable conditions for consistent agricultural output.\n",
    "2.The violin is not visible for the high elevation category. This means that there are very few or no data points in this category.\n",
    "3.'Low' elevation has the highest yield variability, suggesting that these areas might experience a wider range of factors influencing agricultural productivity.\n",
    "4.'Medium' elevation exhibits a variability in yield, but to a significantly lesser extent than the 'High' elevation, potentially due to a mix of conditions that affect crop yield. "
   ]
  },
  {
   "cell_type": "markdown",
   "id": "080c8f0d",
   "metadata": {},
   "source": [
    "Assuming each 'Crop_type' contributes an integer value equal to its length (e.g., 'wheat' contributes 5), write a recursive function to sum the integer values for each unique crop type in the dataset. What is the sum?"
   ]
  },
  {
   "cell_type": "code",
   "execution_count": 32,
   "id": "0d5fa6d9",
   "metadata": {},
   "outputs": [
    {
     "data": {
      "text/plain": [
       "42"
      ]
     },
     "execution_count": 32,
     "metadata": {},
     "output_type": "execute_result"
    }
   ],
   "source": [
    "def sum_crop_type_lengths(df, index=0, unique_crop_types=None):\n",
    "    if unique_crop_types is None:\n",
    "        # Get unique crop types if not provided\n",
    "        unique_crop_types = df['Crop_type'].unique()\n",
    "    \n",
    "    # Base case: if index exceeds the length of unique crop types, return 0\n",
    "    if index >= len(unique_crop_types):\n",
    "        return 0\n",
    "    \n",
    "    # Get the current crop type\n",
    "    crop_type = unique_crop_types[index]\n",
    "    \n",
    "    # Calculate the length of the current crop type and recursively call the function for the next index\n",
    "    length = len(crop_type)\n",
    "    next_sum = sum_crop_type_lengths(df, index + 1, unique_crop_types)\n",
    "    \n",
    "    # Return the sum of the current length and the sum from the next index\n",
    "    return length + next_sum\n",
    "\n",
    "# Call the function to get the sum of integer values for each unique crop type\n",
    "total_sum = sum_crop_type_lengths(df)\n",
    "\n",
    "total_sum"
   ]
  },
  {
   "cell_type": "markdown",
   "id": "7c005ef9",
   "metadata": {},
   "source": [
    "Write Python code to perform a t-test comparing the average 'Annual_yield' between 'coffee' and 'banana' crop types using scipy.stats. What is the p-value, rounded to three decimal places?"
   ]
  },
  {
   "cell_type": "code",
   "execution_count": 35,
   "id": "eab190b2",
   "metadata": {},
   "outputs": [],
   "source": [
    "import pandas as pd\n",
    "from scipy.stats import ttest_ind"
   ]
  },
  {
   "cell_type": "code",
   "execution_count": 43,
   "id": "f96291da",
   "metadata": {},
   "outputs": [
    {
     "name": "stdout",
     "output_type": "stream",
     "text": [
      "The p-value for the t-test comparing average 'Annual_yield' between 'coffee' and 'banana' crop types: 0.598\n"
     ]
    }
   ],
   "source": [
    " #Separate data for 'coffee' and 'banana' crop types\n",
    "coffee_yield = df[df['Crop_type'] == 'coffee']['Annual_yield']\n",
    "banana_yield = df[df['Crop_type'] == 'banana']['Annual_yield']\n",
    "\n",
    "# Perform t-test\n",
    "t_statistic, p_value = ttest_ind(coffee_yield, banana_yield)\n",
    "\n",
    "# Print the p-value rounded to three decimal places\n",
    "print(\"The p-value for the t-test comparing average 'Annual_yield' between 'coffee' and 'banana' crop types:\", round(p_value, 3))"
   ]
  },
  {
   "cell_type": "code",
   "execution_count": null,
   "id": "b0ae7443",
   "metadata": {},
   "outputs": [],
   "source": []
  }
 ],
 "metadata": {
  "kernelspec": {
   "display_name": "Python 3 (ipykernel)",
   "language": "python",
   "name": "python3"
  },
  "language_info": {
   "codemirror_mode": {
    "name": "ipython",
    "version": 3
   },
   "file_extension": ".py",
   "mimetype": "text/x-python",
   "name": "python",
   "nbconvert_exporter": "python",
   "pygments_lexer": "ipython3",
   "version": "3.11.5"
  }
 },
 "nbformat": 4,
 "nbformat_minor": 5
}
